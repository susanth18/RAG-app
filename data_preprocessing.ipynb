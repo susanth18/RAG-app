{
 "cells": [
  {
   "cell_type": "markdown",
   "metadata": {},
   "source": [
    "# Preprocess Data and Generate Chunks"
   ]
  },
  {
   "cell_type": "code",
   "execution_count": 3,
   "metadata": {},
   "outputs": [
    {
     "name": "stdout",
     "output_type": "stream",
     "text": [
      "\n",
      "Total chunks generated: 15\n",
      "\n"
     ]
    }
   ],
   "source": [
    "import re\n",
    "from pathlib import Path\n",
    "\n",
    "def chunk_text(text, chunk_size=300, overlap=50):\n",
    "    words = text.split()\n",
    "    chunks = []\n",
    "    start = 0\n",
    "    while start < len(words):\n",
    "        end = start + chunk_size\n",
    "        chunk = ' '.join(words[start:end])\n",
    "        chunks.append(chunk)\n",
    "        start = end - overlap  \n",
    "    return chunks\n",
    "\n",
    "def clean_text(text):\n",
    "    text = re.sub(r'\\s+', ' ', text).strip()\n",
    "    text = re.sub(r'[^\\w\\s.,;:!?\\'\"-]', '', text)\n",
    "    return text.lower() \n",
    "\n",
    "def process_documents(folder_path):\n",
    "    all_chunks = []\n",
    "    txt_files = Path(folder_path).glob(\"*.txt\")\n",
    "    \n",
    "    for file_path in txt_files:\n",
    "        with open(file_path, 'r', encoding='utf-8', errors='ignore') as f:\n",
    "            text = f.read()\n",
    "            cleaned_text = clean_text(text)\n",
    "            chunks = chunk_text(cleaned_text)\n",
    "            for chunk in chunks:\n",
    "                all_chunks.append({\n",
    "                    \"text\": chunk,\n",
    "                    \"source\": file_path.name,\n",
    "                })\n",
    "    \n",
    "    return all_chunks\n",
    "\n",
    "folder_path = \"Data\"\n",
    "processed_chunks = process_documents(folder_path)\n",
    "print(f\"\\nTotal chunks generated: {len(processed_chunks)}\\n\")\n",
    "\n",
    "'''\n",
    "for idx, chunk in enumerate(processed_chunks, 1):\n",
    "    print(f\"Chunk #{idx}\")\n",
    "    print(f\"Source: {chunk['source']}\")\n",
    "    print(f\"Text Preview: {chunk['text'][:150]}...\") \n",
    "    print(f\"Length: {len(chunk['text'].split())} words\")\n",
    "    print(\"-\" * 80)\n",
    "'''\n",
    "with open(\"chunks.txt\", \"w\", encoding=\"utf-8\") as f:\n",
    "    for idx, chunk in enumerate(processed_chunks, 1):\n",
    "        f.write(f\"Chunk #{idx}\\n\")\n",
    "        f.write(f\"Source: {chunk['source']}\\n\")\n",
    "        f.write(f\"Text: {chunk['text']}\\n\")\n",
    "        f.write(\"-\" * 80 + \"\\n\\n\")"
   ]
  },
  {
   "cell_type": "code",
   "execution_count": null,
   "metadata": {},
   "outputs": [],
   "source": []
  },
  {
   "cell_type": "code",
   "execution_count": null,
   "metadata": {},
   "outputs": [],
   "source": []
  },
  {
   "cell_type": "code",
   "execution_count": null,
   "metadata": {},
   "outputs": [],
   "source": []
  }
 ],
 "metadata": {
  "kernelspec": {
   "display_name": "Python 3",
   "language": "python",
   "name": "python3"
  },
  "language_info": {
   "codemirror_mode": {
    "name": "ipython",
    "version": 3
   },
   "file_extension": ".py",
   "mimetype": "text/x-python",
   "name": "python",
   "nbconvert_exporter": "python",
   "pygments_lexer": "ipython3",
   "version": "3.12.4"
  }
 },
 "nbformat": 4,
 "nbformat_minor": 2
}
