{
 "cells": [
  {
   "cell_type": "markdown",
   "metadata": {},
   "source": [
    "# Parse the Chunks"
   ]
  },
  {
   "cell_type": "code",
   "execution_count": 1,
   "metadata": {},
   "outputs": [],
   "source": [
    "def parse_chunks_file(file_path):\n",
    "    chunks = []\n",
    "    with open(file_path, 'r') as f:\n",
    "        current_chunk = {}\n",
    "        for line in f:\n",
    "            line = line.strip()\n",
    "            if line.startswith(\"Chunk #\"):\n",
    "                current_chunk[\"chunk_number\"] = int(line.split(\"#\")[1])\n",
    "            elif line.startswith(\"Source:\"):\n",
    "                current_chunk[\"source\"] = line.split(\": \")[1]\n",
    "            elif line.startswith(\"Text:\"):\n",
    "                current_chunk[\"text\"] = line.split(\": \", 1)[1]\n",
    "                # Add completed chunk and reset\n",
    "                chunks.append(current_chunk)\n",
    "                current_chunk = {}\n",
    "    return chunks\n",
    "\n",
    "parsed_chunks = parse_chunks_file(\"chunks.txt\")"
   ]
  },
  {
   "cell_type": "code",
   "execution_count": 3,
   "metadata": {},
   "outputs": [
    {
     "data": {
      "text/plain": [
       "15"
      ]
     },
     "execution_count": 3,
     "metadata": {},
     "output_type": "execute_result"
    }
   ],
   "source": [
    "len(parsed_chunks)"
   ]
  },
  {
   "cell_type": "code",
   "execution_count": 4,
   "metadata": {},
   "outputs": [
    {
     "data": {
      "text/plain": [
       "{'chunk_number': 1,\n",
       " 'source': 'cnn_article.txt',\n",
       " 'text': 'title: a shocking chinese ai advancement called deepseek is sending us stocks plunging cnn us stocks dropped sharply monday and chipmaker nvidia lost nearly 600 billion in market value after a surprise advancement from a chinese artificial intelligence company, deepseek , threatened the aura of invincibility surrounding americas technology industry. deepseek , a one-year-old startup, revealed a stunning capability last week: it presented a chatgpt-like ai model called r1, which has all the familiar abilities, operating at a fraction of the cost of openais, googles or metas popular ai models. the company said it had spent just 5.6 million on computing power for its base model, compared with the hundreds of millions or billions of dollars us companies spend on their ai technologies. that sent shockwaves through markets, in particular the tech sector, on monday. the tech-heavy nasdaq plunged by 3.1 and the broader sp 500 fell 1.5. the dow, boosted by health care and consumer companies that could be hurt by ai, was up 289 points, or about 0.7 higher. stock market losses were far deeper at the beginning of the day. meta last week said it would spend upward of 65 billion this year on ai development. sam altman, ceo of openai, last year said the ai industry would need trillions of dollars in investment to support the development of in-demand chips needed to power the electricity-hungry data centers that run the sectors complex models. marc andreessen, a supporter of president donald trump and one of the worlds leading tech investors, called deepseek one of the most amazing and impressive breakthroughs ive ever seen, in a post on x . the stunning achievement from a relatively unknown ai startup becomes even more shocking when considering that the united states for years has worked to restrict the supply of'}"
      ]
     },
     "execution_count": 4,
     "metadata": {},
     "output_type": "execute_result"
    }
   ],
   "source": [
    "parsed_chunks[0]"
   ]
  },
  {
   "cell_type": "code",
   "execution_count": 5,
   "metadata": {},
   "outputs": [
    {
     "data": {
      "text/plain": [
       "{'chunk_number': 2,\n",
       " 'source': 'cnn_article.txt',\n",
       " 'text': 'leading tech investors, called deepseek one of the most amazing and impressive breakthroughs ive ever seen, in a post on x . the stunning achievement from a relatively unknown ai startup becomes even more shocking when considering that the united states for years has worked to restrict the supply of high-power ai chips to china , citing national security concerns. that means deepseek was able to achieve its low-cost model on under-powered ai chips. tech stocks tumble us tech stocks got hammered monday. nvidia nvda , the leading supplier of ai chips, fell nearly 17 and lost 588.8 billion in market value by far the most market value a stock has ever lost in a single day, more than doubling the previous record of 240 billion set by meta nearly three years ago. for perspective, nvidia lost more in market value monday than all but 13 companies are worth period. nvidia began the day as the most valuable publicly traded stock on the market over 3.4 trillion after its shares more than doubled in each of the past two years. it ended the day in third place behind apple and microsoft. meta meta and alphabet googl , googles parent company, were also down sharply. nvidia competitors marvell, broadcom, micron and tsmc all fell sharply, too. oracle orcl , vertiv, constellation, nuscale and other energy and data center companies tumbled. that dragged down the broader stock market, because tech stocks make up a significant chunk of the market tech constitutes about 45 of the sp 500, according to keith lerner, analyst at truist. the bottom line is the us outperformance has been driven by tech and the lead that us companies have in ai, lerner said. the deepseek model rollout is leading investors to question the lead that us companies have'}"
      ]
     },
     "execution_count": 5,
     "metadata": {},
     "output_type": "execute_result"
    }
   ],
   "source": [
    "parsed_chunks[1]"
   ]
  },
  {
   "cell_type": "code",
   "execution_count": 6,
   "metadata": {},
   "outputs": [
    {
     "data": {
      "text/plain": [
       "{'chunk_number': 15,\n",
       " 'source': 'Document3.txt',\n",
       " 'text': 'will likely drive innovation and shape the future of intelligent systems, offering new possibilities for solving complex problems and enhancing human capabilities.'}"
      ]
     },
     "execution_count": 6,
     "metadata": {},
     "output_type": "execute_result"
    }
   ],
   "source": [
    "parsed_chunks[14]"
   ]
  },
  {
   "cell_type": "markdown",
   "metadata": {},
   "source": [
    "# Generate Embeddings"
   ]
  },
  {
   "cell_type": "code",
   "execution_count": 8,
   "metadata": {},
   "outputs": [],
   "source": [
    "import os\n",
    "import openai\n",
    "from dotenv import load_dotenv\n",
    "load_dotenv()\n",
    "\n",
    "client = openai.OpenAI(\n",
    "  api_key=os.getenv(\"TOGETHER_API_KEY\"),\n",
    "  base_url=os.getenv(\"TOGETHER_BASE_URL\"),\n",
    ")"
   ]
  },
  {
   "cell_type": "code",
   "execution_count": 10,
   "metadata": {},
   "outputs": [],
   "source": [
    "def get_embedding(text):\n",
    "    response = client.embeddings.create(\n",
    "        input=text,\n",
    "        model=\"togethercomputer/m2-bert-80M-32k-retrieval\"\n",
    "    )\n",
    "    return response.data[0].embedding\n",
    "\n",
    "for chunk in parsed_chunks:\n",
    "    chunk[\"embedding\"] = get_embedding(chunk[\"text\"])"
   ]
  },
  {
   "cell_type": "markdown",
   "metadata": {},
   "source": [
    "# Prepare for Pinecone"
   ]
  },
  {
   "cell_type": "code",
   "execution_count": 11,
   "metadata": {},
   "outputs": [],
   "source": [
    "pinecone_data = []\n",
    "for chunk in parsed_chunks:\n",
    "    pinecone_data.append({\n",
    "        \"id\": f\"chunk_{chunk['chunk_number']}\",\n",
    "        \"values\": chunk[\"embedding\"],\n",
    "        \"metadata\": {\n",
    "            \"source\": chunk[\"source\"],\n",
    "            \"chunk_number\": chunk[\"chunk_number\"],\n",
    "            \"text\": chunk[\"text\"]\n",
    "        }\n",
    "    })"
   ]
  },
  {
   "cell_type": "code",
   "execution_count": 13,
   "metadata": {},
   "outputs": [
    {
     "name": "stdout",
     "output_type": "stream",
     "text": [
      "{'id': 'chunk_1', 'values': [0.06969701, -0.03318938, 0.17799321, 0.3000356, -0.0076096333, -0.17303014, 0.2780669, -0.042178836, 0.26382613, 0.12504727, -0.36713076, 0.11640171, -0.34269002, -0.09929308, 0.037152722, 0.102378555, -0.021582397, -0.19380191, 0.0029728687, -0.025832728, -0.35480845, -0.18215656, -0.14970814, -0.28141427, 0.05867895, -0.35171372, -0.059981313, -0.041587032, 0.26130745, 0.05552418, 0.16992815, -0.11347354, -0.11250953, -0.03088671, -0.14819552, 0.15538973, -0.039707698, 0.21913281, 0.0647081, -0.030804869, -0.11696476, -0.2141617, -0.207563, 0.030417865, 0.09498098, 0.18072549, -0.07526764, -0.12122867, 0.12985463, 0.12910214, -0.23375233, 0.067487344, -0.2284165, 0.14605036, -0.15443064, 0.028970614, -0.009370593, 0.0062874984, -0.20960324, -0.035867997, 0.10395962, 0.046016, -0.058865502, 0.19650206, -0.049542695, -0.09823916, -0.1240866, 0.052633103, 0.043445487, 0.20876175, 0.1649083, 0.09289101, -0.0014520021, -0.13081628, -0.0076122824, 0.16125019, 0.063799486, -0.19018996, -0.13543172, 0.047787488, -0.077029884, -0.17565998, -0.118604474, 0.30465212, 0.22853358, 0.025530398, 0.0050469236, 0.037351284, -0.26692823, -0.19236222, -0.26923364, -0.043045666, 0.04698183, -0.24127747, 0.09893584, 0.27198645, 0.07606985, 0.0004376348, 0.109225124, 0.065349534, 0.059834912, 0.26957828, 0.046309065, -0.39835858, -0.22745363, 0.17461112, 0.054024156, 0.034080684, 0.3706197, -0.3245488, -0.049851112, -0.07894845, -0.08482872, 0.104781516, 0.008607353, -0.118824854, 0.024500884, -0.14025877, 0.03256126, -0.18651246, 0.21793076, 0.07705509, -0.027957229, 0.08664776, -0.0881947, 0.06259984, -0.41910544, -0.086016886, -0.02155548, -0.088753395, 0.1793604, 0.11910676, 0.013098527, 0.060409855, 0.11888617, -0.018398274, 0.12498838, -0.0028319666, -0.030698827, 0.092557855, -0.17576669, -0.31914365, 0.0689446, 0.0038502172, 0.18983316, -0.048689038, 0.0964594, -0.17986958, -0.43496704, -0.10930937, -0.017674094, 0.09216169, 0.17890279, 0.023265196, -0.07708183, 0.16857706, 0.093499795, 0.26154757, 0.103832155, 0.057985004, 0.36387312, -0.16134864, 0.024589397, 0.008470756, 0.14804733, 0.31406686, 0.036798682, -0.34158593, -0.088283844, 0.048475493, 0.008343601, 0.002233784, -0.025417086, 0.11814014, 0.07251007, -0.032932326, 0.239474, -0.02469036, 0.08565412, 0.09521211, 0.31278205, 0.17863101, -0.033293545, 0.005587992, 0.045736164, 0.107636385, -0.15015222, -0.097121194, -0.19044138, 0.11677015, -0.16263536, -0.092530794, 0.0013391007, -0.2492618, -0.06205321, -0.010770996, 0.17874609, 0.092547104, 0.025816893, -0.09724767, 0.047430377, -0.19558507, 0.003105106, -0.0076716808, 0.034677077, 0.11280958, 0.011794351, -0.36189058, 0.2603805, 0.056433976, -0.019350564, 0.11763072, -0.075804755, -0.031327944, -0.09991583, -0.04610837, -0.09805769, -0.22616182, -0.26648763, -0.018752879, -0.040428896, 0.115189545, 0.117745265, -0.11878145, 0.29771623, 0.17392322, 0.107836425, -0.18684709, 0.023249852, -0.033008944, 0.001113987, 0.01759584, 0.05207521, -0.0035154982, -0.27392387, -0.23111784, 0.03850665, 0.036391724, -0.09894226, 0.15389386, 0.07884302, 0.1648955, -0.079869054, -0.09335682, -0.08955668, -0.40400434, -0.055327773, 0.05821877, 0.04512669, -0.15617634, 0.23510334, 0.06785368, -0.22653787, 0.082161985, 0.04580675, 0.0040838765, -0.08816481, -0.05012458, 0.0971592, -0.02458295, 0.11011984, -0.025593815, -0.02176907, 0.20552103, 0.087720364, -0.026333349, 0.067395024, -0.032142244, -0.21943288, -0.12086402, 0.13180609, -0.15874009, -0.11905522, 0.10451276, 0.14084761, -0.096555576, -0.42773882, 0.09048117, 0.06402035, -0.024776032, 0.13621911, -0.29165468, -0.11173666, -0.3781516, 0.019724794, 0.1492552, -0.05274633, 0.092871346, -0.010527926, 0.19174732, -0.039726116, 0.0688649, 0.05573192, -0.1378717, -0.10419538, 0.030849848, -0.021650327, -0.007978192, -0.17577861, 0.04853323, -0.027495181, 0.4270264, -0.15672211, 0.13089795, 0.13201784, 0.037618347, 0.0915363, -0.105303675, -0.061849337, -0.16008537, -0.17198648, -0.15534532, -0.18653259, 0.1720098, -0.13646674, -0.20445484, 0.10368333, -0.10863157, -0.09316057, 0.12627466, -0.06072137, 0.21415174, -0.029573562, -0.15088065, 0.025255324, -0.2623583, -0.22149819, 0.051147465, -0.05834404, 0.1393512, -0.13487676, -0.025928773, 0.1105765, -0.2604533, 0.13841729, 0.015896678, -0.14151825, 0.04308284, 0.15009987, -0.012694482, 0.15922739, -0.17952214, 0.23838405, 0.3280505, -0.12761138, -0.0017595207, -0.21933727, 0.28129137, -0.049942423, -0.16920532, 0.35365853, 0.16461265, 0.19956478, -0.30339676, 0.13707456, -0.113256596, -0.025742885, -0.03224012, 0.08481433, 0.20181856, -0.2467567, -0.18322043, -0.013257886, -0.18076697, -0.059832994, -0.036610465, 0.19000874, -0.3076731, -0.28923467, -0.12711084, -0.038300414, 0.13753253, 0.22842707, -0.07869234, 0.07913804, 0.0138092395, -0.0780121, -0.102751866, -0.044132497, -0.047973376, 0.13318501, 0.03014731, -0.08809017, -0.041826177, 0.26533136, 0.073328264, 0.043957703, -0.00984347, -0.16049922, 0.27749923, -0.0353291, 0.15252978, -0.24105227, 0.2399874, 0.16201317, -0.099630885, 0.17152701, -0.23635112, -0.0375439, 0.06938454, 0.10895544, 0.040842425, 0.28689393, 0.15617535, 0.06620386, 0.16777903, -0.16803491, 0.1305098, -0.18135825, 0.20997734, -0.033511516, 0.002351111, -0.0111151375, 0.06435194, -0.17787884, -0.06934996, 0.3967582, -0.23744878, -0.1386972, 0.11360347, -0.1878789, -0.06601251, -0.12298002, -0.11570033, 0.13052167, -0.042068105, 0.016453546, 0.08944754, -0.08726466, 0.20076488, 0.11928308, 0.02053233, 0.24690624, 0.04360495, -0.011466595, 0.04305229, -0.08349748, -0.053824734, 0.18283147, -0.3646527, -0.10197305, -0.050037913, -0.2467486, 0.39826664, 0.0994147, -0.14247921, -0.026010862, -0.22495471, 0.049309224, -0.10144749, -0.078053586, -0.15700758, 0.06708502, 0.0005965236, 0.088329576, -0.0426881, 0.33783767, 0.05550848, 0.1574492, -0.25109693, -0.02525647, -0.10401802, 0.3302453, 0.20169309, -0.07654969, 0.28429183, -0.020885991, 0.009239777, 0.0388142, -0.004190128, -0.01391484, -0.16288804, -0.05761905, 0.07591819, -0.011440064, 0.034414202, 0.13159251, -0.33182624, 0.18448178, -0.10654024, 0.23369528, -0.18527238, 0.24514855, -0.0954213, 0.067404926, 0.19294079, 0.0896331, -0.40910146, 0.21127398, -0.11670686, 0.20141871, -0.025248587, 0.104399025, 0.20846744, -0.0062969704, -0.018916046, -0.1096085, 0.22274926, 0.029927602, -0.017379574, 0.07335231, -0.10262598, -0.082657665, -0.36676928, -0.002092333, 0.15263937, 0.14203772, -0.017073708, 0.10135808, 0.0936521, -0.055122867, 0.076560326, -0.18956655, 0.0076195053, 0.10987271, 0.007548867, -0.0747693, 0.25599796, -0.04330544, 0.10718026, 0.038465537, 0.25011867, -0.036550276, -0.012843423, -0.10115879, -0.28427127, -0.00023676956, 0.19217369, 0.17472579, 0.059736345, 0.02295534, -0.23025411, 0.05731569, -0.13992219, 0.24610667, -0.113977075, 0.037534457, -0.24198942, 0.4314088, -0.060412496, -0.014634823, -0.15380786, 0.14701478, 0.20015632, -0.04041811, 0.16522253, -0.12955293, -0.22819027, -0.16869581, -0.2580371, 0.18147449, -0.13618478, 0.18174021, -0.23865886, 0.0373594, -0.18969673, 0.02207557, -0.11696696, -0.2893956, 0.09170528, -0.15695913, 0.22816344, 0.14264518, 0.15272877, -0.021675821, -0.26384157, 0.17134586, -0.27075496, 0.011069781, -0.15603168, 0.17072764, -0.1913887, -0.25222462, -0.2163551, -0.18022177, -0.0056349975, -0.20410834, 0.08214951, 0.05925882, -0.13733333, 0.24171285, 0.37894022, 0.061130285, 0.3126012, 0.35246727, -0.07672989, -0.16493037, 0.14562948, 0.15368867, 0.21730837, 0.08492032, 0.2020224, -0.1261108, 0.12896568, 0.01542922, -0.1862203, 0.05064343, -0.034667574, 0.080130085, 0.13221566, 0.03409365, -0.27901804, -0.22619276, -0.06680788, -0.05996332, 0.2280745, -0.13170299, 0.080723986, -0.066276416, 0.13243204, -0.019838618, 0.15257204, -0.06329023, -0.22356182, 0.13290915, 0.045361098, -0.15896161, 0.07538396, 0.020415774, -0.047674574, 0.07076974, -0.14829364, -0.14649262, -0.08342621, -0.13861798, 0.018295154, -0.1907911, 0.08513831, -0.21271579, 0.015712094, -0.2663565, -0.012499738, 0.08221763, -0.30028355, 0.005872605, -0.22308332, 0.19225346, 0.14230263, 0.010265985, -0.105592854, 0.000100162695, -0.25696585, 0.0816463, 0.027374508, -0.17687647, -0.07862224, 0.03871581, -0.19405653, -0.0907568, 0.028934952, 0.10076966, -0.20994489, -0.20777915, -0.23044828, -0.21521008, -0.03103178, -0.08899009, 0.21701656, -0.030058075, -0.10030108, 0.25194085, 0.09346932, -0.19168851, 0.26745385, 0.057819765, 0.013749446, -0.034792278, -0.13480255, -0.07486883, -0.006932275, 0.14152277, -0.26633054, 0.09225569, -0.081239715, 0.19441459, 0.13193649, 0.262871, 0.0046776775, 0.30617514, 0.25074136, -0.1868645, -0.047284253, 0.13962872, 0.033341225, -0.19992343, -0.314176, -0.08082833, -0.027734114, 0.018596279, 0.044496585, 0.0648064, 0.059689537, 0.20625053, 0.008430975, 0.029613927, -0.0625178, 0.03199901, 0.16669898, 0.07397863, 0.107446976, -0.050643433, 0.010747139, 0.009905385, 0.022059685, 0.08295667, -0.038801827, 0.12022212, -0.0022266342, -0.10601715, -0.12790336, -0.037322707, 0.0069142045, -0.035448197, -0.32705253, -0.15891364, 0.16837221, 0.10973231, 0.24777454, -0.1345162, 0.0676657, 0.13599826, 0.1986121, -0.08435004, -0.29641038, 0.27482724, 0.0506106, -0.11230368, 0.31889412, -0.36734998, 0.14820805, -0.17680745, -0.13739258, -0.055767193, -0.33199, -0.27305374, -0.0024999976, -0.1629282, 0.09814737, -0.21145052, -0.34013927, 0.12544313, 0.35518333, 0.07911999, 0.21210009, -0.09784052, -0.13520081, 0.099056944, 0.22763628, 0.14528693, 0.04717433, -0.036955465, -0.045685805, 0.25213125, -0.20589906, -0.070466824, -0.22654903, 0.082236886, 0.14960615, -0.069609545, 0.015726402, 0.1808711, -0.041042548, -0.09267955, 0.052834187, 0.097517565, 0.092549, -0.09774528, -0.007500049], 'metadata': {'source': 'cnn_article.txt', 'chunk_number': 1, 'text': 'title: a shocking chinese ai advancement called deepseek is sending us stocks plunging cnn us stocks dropped sharply monday and chipmaker nvidia lost nearly 600 billion in market value after a surprise advancement from a chinese artificial intelligence company, deepseek , threatened the aura of invincibility surrounding americas technology industry. deepseek , a one-year-old startup, revealed a stunning capability last week: it presented a chatgpt-like ai model called r1, which has all the familiar abilities, operating at a fraction of the cost of openais, googles or metas popular ai models. the company said it had spent just 5.6 million on computing power for its base model, compared with the hundreds of millions or billions of dollars us companies spend on their ai technologies. that sent shockwaves through markets, in particular the tech sector, on monday. the tech-heavy nasdaq plunged by 3.1 and the broader sp 500 fell 1.5. the dow, boosted by health care and consumer companies that could be hurt by ai, was up 289 points, or about 0.7 higher. stock market losses were far deeper at the beginning of the day. meta last week said it would spend upward of 65 billion this year on ai development. sam altman, ceo of openai, last year said the ai industry would need trillions of dollars in investment to support the development of in-demand chips needed to power the electricity-hungry data centers that run the sectors complex models. marc andreessen, a supporter of president donald trump and one of the worlds leading tech investors, called deepseek one of the most amazing and impressive breakthroughs ive ever seen, in a post on x . the stunning achievement from a relatively unknown ai startup becomes even more shocking when considering that the united states for years has worked to restrict the supply of'}}\n"
     ]
    }
   ],
   "source": [
    "print(pinecone_data[0])"
   ]
  },
  {
   "cell_type": "code",
   "execution_count": 14,
   "metadata": {},
   "outputs": [
    {
     "data": {
      "text/plain": [
       "768"
      ]
     },
     "execution_count": 14,
     "metadata": {},
     "output_type": "execute_result"
    }
   ],
   "source": [
    "len(pinecone_data[0][\"values\"])"
   ]
  },
  {
   "cell_type": "markdown",
   "metadata": {},
   "source": [
    "Our embedding vector is of 768D\n"
   ]
  },
  {
   "cell_type": "markdown",
   "metadata": {},
   "source": [
    "# Upsert to Pinecone"
   ]
  },
  {
   "cell_type": "code",
   "execution_count": 18,
   "metadata": {},
   "outputs": [
    {
     "name": "stdout",
     "output_type": "stream",
     "text": [
      "Successfully uploaded 15 chunks to Pinecone\n"
     ]
    }
   ],
   "source": [
    "from pinecone import Pinecone, ServerlessSpec\n",
    "load_dotenv()\n",
    "\n",
    "pinecone = Pinecone(api_key=os.getenv(\"PINECONE_API_KEY\"))\n",
    "\n",
    "index_name = \"assignment\"\n",
    "\n",
    "\n",
    "if index_name not in pinecone.list_indexes():\n",
    "    pinecone.create_index(\n",
    "        name=index_name,\n",
    "        dimension=768,  \n",
    "        metric=\"cosine\",\n",
    "        spec=ServerlessSpec(\n",
    "        cloud=\"aws\",\n",
    "        region=\"us-east-1\"\n",
    "    ) \n",
    "    )\n",
    "\n",
    "index = pinecone.Index(index_name)\n",
    "\n",
    "\n",
    "batch_size = len(parsed_chunks)\n",
    "for i in range(0, len(pinecone_data), batch_size):\n",
    "    batch = pinecone_data[i:i+batch_size]\n",
    "    index.upsert(vectors=batch)\n",
    "\n",
    "print(f\"Successfully uploaded {len(pinecone_data)} chunks to Pinecone\")"
   ]
  },
  {
   "cell_type": "code",
   "execution_count": null,
   "metadata": {},
   "outputs": [],
   "source": []
  },
  {
   "cell_type": "code",
   "execution_count": null,
   "metadata": {},
   "outputs": [],
   "source": []
  },
  {
   "cell_type": "code",
   "execution_count": null,
   "metadata": {},
   "outputs": [],
   "source": []
  },
  {
   "cell_type": "code",
   "execution_count": null,
   "metadata": {},
   "outputs": [],
   "source": []
  },
  {
   "cell_type": "code",
   "execution_count": null,
   "metadata": {},
   "outputs": [],
   "source": []
  }
 ],
 "metadata": {
  "kernelspec": {
   "display_name": "Python 3",
   "language": "python",
   "name": "python3"
  },
  "language_info": {
   "codemirror_mode": {
    "name": "ipython",
    "version": 3
   },
   "file_extension": ".py",
   "mimetype": "text/x-python",
   "name": "python",
   "nbconvert_exporter": "python",
   "pygments_lexer": "ipython3",
   "version": "3.12.4"
  }
 },
 "nbformat": 4,
 "nbformat_minor": 2
}
